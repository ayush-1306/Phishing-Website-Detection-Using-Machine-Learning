{
 "cells": [
  {
   "cell_type": "markdown",
   "metadata": {},
   "source": [
    "# **Phishing Website Detection by Machine Learning Techniques**"
   ]
  },
  {
   "cell_type": "markdown",
   "metadata": {},
   "source": [
    "## Module 1-Data Collection\n",
    "\n",
    "# **1. Objective:**\n",
    "A phishing website is a common social engineering method that mimics trustful uniform resource locators (URLs) and webpages. The objective of this notebook is to collect data & extract the selctive features form the URLs."
   ]
  },
  {
   "cell_type": "markdown",
   "metadata": {},
   "source": [
    "# **2. Collecting the Data:**\n",
    "For this project, we need a bunch of urls of type legitimate (0) and phishing (1). \n",
    "\n",
    "The collection of phishing urls is rather easy because of the opensource service called PhishTank. This service provide a set of phishing URLs in multiple formats like csv, json etc. that gets updated hourly. To download the data: https://www.phishtank.com/developer_info.php\n",
    "\n",
    "For the legitimate URLs, I found a source that has a collection of benign, spam, phishing, malware & defacement URLs. The source of the dataset is University of New Brunswick, https://www.unb.ca/cic/datasets/url-2016.html. The number of legitimate URLs in this collection are 35,300. The URL collection is downloaded & from that, *'Benign_list_big_final.csv'* is the file of our interest. This file is then uploaded to the Colab for the feature extraction. "
   ]
  },
  {
   "cell_type": "markdown",
   "metadata": {},
   "source": [
    "## **2.1. Phishing URLs:**\n",
    "\n",
    "The phishing URLs are collected from the PhishTank from the link provided. The csv file of phishing URLs is obtained by using wget command. After downlaoding the dataset, it is loaded into a DataFrame."
   ]
  },
  {
   "cell_type": "code",
   "execution_count": 77,
   "metadata": {
    "colab": {},
    "colab_type": "code",
    "id": "PH13wfswmyDv"
   },
   "outputs": [],
   "source": [
    "#importing required packages for this module\n",
    "import numpy as np\n",
    "import pandas as pd"
   ]
  },
  {
   "cell_type": "code",
   "execution_count": 78,
   "metadata": {
    "colab": {
     "base_uri": "https://localhost:8080/",
     "height": 305
    },
    "colab_type": "code",
    "id": "GaGVL9gYKXma",
    "outputId": "fad0a947-4996-44bf-d46f-89abc4306e62"
   },
   "outputs": [
    {
     "data": {
      "text/html": [
       "<div>\n",
       "<style scoped>\n",
       "    .dataframe tbody tr th:only-of-type {\n",
       "        vertical-align: middle;\n",
       "    }\n",
       "\n",
       "    .dataframe tbody tr th {\n",
       "        vertical-align: top;\n",
       "    }\n",
       "\n",
       "    .dataframe thead th {\n",
       "        text-align: right;\n",
       "    }\n",
       "</style>\n",
       "<table border=\"1\" class=\"dataframe\">\n",
       "  <thead>\n",
       "    <tr style=\"text-align: right;\">\n",
       "      <th></th>\n",
       "      <th>phish_id</th>\n",
       "      <th>url</th>\n",
       "      <th>phish_detail_url</th>\n",
       "      <th>submission_time</th>\n",
       "      <th>verified</th>\n",
       "      <th>verification_time</th>\n",
       "      <th>online</th>\n",
       "      <th>target</th>\n",
       "    </tr>\n",
       "  </thead>\n",
       "  <tbody>\n",
       "    <tr>\n",
       "      <th>0</th>\n",
       "      <td>6557033</td>\n",
       "      <td>http://u1047531.cp.regruhosting.ru/acces-inges...</td>\n",
       "      <td>http://www.phishtank.com/phish_detail.php?phis...</td>\n",
       "      <td>2020-05-09T22:01:43+00:00</td>\n",
       "      <td>yes</td>\n",
       "      <td>2020-05-09T22:03:07+00:00</td>\n",
       "      <td>yes</td>\n",
       "      <td>Other</td>\n",
       "    </tr>\n",
       "    <tr>\n",
       "      <th>1</th>\n",
       "      <td>6557032</td>\n",
       "      <td>http://hoysalacreations.com/wp-content/plugins...</td>\n",
       "      <td>http://www.phishtank.com/phish_detail.php?phis...</td>\n",
       "      <td>2020-05-09T22:01:37+00:00</td>\n",
       "      <td>yes</td>\n",
       "      <td>2020-05-09T22:03:07+00:00</td>\n",
       "      <td>yes</td>\n",
       "      <td>Other</td>\n",
       "    </tr>\n",
       "    <tr>\n",
       "      <th>2</th>\n",
       "      <td>6557011</td>\n",
       "      <td>http://www.accsystemprblemhelp.site/checkpoint...</td>\n",
       "      <td>http://www.phishtank.com/phish_detail.php?phis...</td>\n",
       "      <td>2020-05-09T21:54:31+00:00</td>\n",
       "      <td>yes</td>\n",
       "      <td>2020-05-09T21:55:38+00:00</td>\n",
       "      <td>yes</td>\n",
       "      <td>Facebook</td>\n",
       "    </tr>\n",
       "    <tr>\n",
       "      <th>3</th>\n",
       "      <td>6557010</td>\n",
       "      <td>http://www.accsystemprblemhelp.site/login_atte...</td>\n",
       "      <td>http://www.phishtank.com/phish_detail.php?phis...</td>\n",
       "      <td>2020-05-09T21:53:48+00:00</td>\n",
       "      <td>yes</td>\n",
       "      <td>2020-05-09T21:54:34+00:00</td>\n",
       "      <td>yes</td>\n",
       "      <td>Facebook</td>\n",
       "    </tr>\n",
       "    <tr>\n",
       "      <th>4</th>\n",
       "      <td>6557009</td>\n",
       "      <td>https://firebasestorage.googleapis.com/v0/b/so...</td>\n",
       "      <td>http://www.phishtank.com/phish_detail.php?phis...</td>\n",
       "      <td>2020-05-09T21:49:27+00:00</td>\n",
       "      <td>yes</td>\n",
       "      <td>2020-05-09T21:51:24+00:00</td>\n",
       "      <td>yes</td>\n",
       "      <td>Microsoft</td>\n",
       "    </tr>\n",
       "  </tbody>\n",
       "</table>\n",
       "</div>"
      ],
      "text/plain": [
       "   phish_id                                                url  \\\n",
       "0   6557033  http://u1047531.cp.regruhosting.ru/acces-inges...   \n",
       "1   6557032  http://hoysalacreations.com/wp-content/plugins...   \n",
       "2   6557011  http://www.accsystemprblemhelp.site/checkpoint...   \n",
       "3   6557010  http://www.accsystemprblemhelp.site/login_atte...   \n",
       "4   6557009  https://firebasestorage.googleapis.com/v0/b/so...   \n",
       "\n",
       "                                    phish_detail_url  \\\n",
       "0  http://www.phishtank.com/phish_detail.php?phis...   \n",
       "1  http://www.phishtank.com/phish_detail.php?phis...   \n",
       "2  http://www.phishtank.com/phish_detail.php?phis...   \n",
       "3  http://www.phishtank.com/phish_detail.php?phis...   \n",
       "4  http://www.phishtank.com/phish_detail.php?phis...   \n",
       "\n",
       "             submission_time verified          verification_time online  \\\n",
       "0  2020-05-09T22:01:43+00:00      yes  2020-05-09T22:03:07+00:00    yes   \n",
       "1  2020-05-09T22:01:37+00:00      yes  2020-05-09T22:03:07+00:00    yes   \n",
       "2  2020-05-09T21:54:31+00:00      yes  2020-05-09T21:55:38+00:00    yes   \n",
       "3  2020-05-09T21:53:48+00:00      yes  2020-05-09T21:54:34+00:00    yes   \n",
       "4  2020-05-09T21:49:27+00:00      yes  2020-05-09T21:51:24+00:00    yes   \n",
       "\n",
       "      target  \n",
       "0      Other  \n",
       "1      Other  \n",
       "2   Facebook  \n",
       "3   Facebook  \n",
       "4  Microsoft  "
      ]
     },
     "execution_count": 78,
     "metadata": {},
     "output_type": "execute_result"
    }
   ],
   "source": [
    "#loading the phishing URLs data to dataframe\n",
    "data0 = pd.read_csv(r\"D:\\Final Year Project\\Project_01\\Phishing-Website-Detection-by-Machine-Learning-Techniques-master\\DataFiles\\2.online-valid.csv\")\n",
    "data0.head()"
   ]
  },
  {
   "cell_type": "code",
   "execution_count": 79,
   "metadata": {
    "colab": {
     "base_uri": "https://localhost:8080/",
     "height": 35
    },
    "colab_type": "code",
    "id": "mAZAvSe2n1oT",
    "outputId": "da2fbbb6-871f-4070-df86-cc9a135ac37a"
   },
   "outputs": [
    {
     "data": {
      "text/plain": [
       "(14858, 8)"
      ]
     },
     "execution_count": 79,
     "metadata": {},
     "output_type": "execute_result"
    }
   ],
   "source": [
    "data0.shape"
   ]
  },
  {
   "cell_type": "markdown",
   "metadata": {},
   "source": [
    "**_Taking 5000 random URLs as sample._**"
   ]
  },
  {
   "cell_type": "code",
   "execution_count": 80,
   "metadata": {
    "colab": {
     "base_uri": "https://localhost:8080/",
     "height": 305
    },
    "colab_type": "code",
    "id": "9CTCI_EgERPM",
    "outputId": "cb74e74c-5591-4523-e077-bbf13ef89245"
   },
   "outputs": [
    {
     "data": {
      "text/html": [
       "<div>\n",
       "<style scoped>\n",
       "    .dataframe tbody tr th:only-of-type {\n",
       "        vertical-align: middle;\n",
       "    }\n",
       "\n",
       "    .dataframe tbody tr th {\n",
       "        vertical-align: top;\n",
       "    }\n",
       "\n",
       "    .dataframe thead th {\n",
       "        text-align: right;\n",
       "    }\n",
       "</style>\n",
       "<table border=\"1\" class=\"dataframe\">\n",
       "  <thead>\n",
       "    <tr style=\"text-align: right;\">\n",
       "      <th></th>\n",
       "      <th>phish_id</th>\n",
       "      <th>url</th>\n",
       "      <th>phish_detail_url</th>\n",
       "      <th>submission_time</th>\n",
       "      <th>verified</th>\n",
       "      <th>verification_time</th>\n",
       "      <th>online</th>\n",
       "      <th>target</th>\n",
       "    </tr>\n",
       "  </thead>\n",
       "  <tbody>\n",
       "    <tr>\n",
       "      <th>0</th>\n",
       "      <td>6514946</td>\n",
       "      <td>http://confirmprofileaccount.com/</td>\n",
       "      <td>http://www.phishtank.com/phish_detail.php?phis...</td>\n",
       "      <td>2020-04-19T11:06:55+00:00</td>\n",
       "      <td>yes</td>\n",
       "      <td>2020-04-19T13:42:41+00:00</td>\n",
       "      <td>yes</td>\n",
       "      <td>Other</td>\n",
       "    </tr>\n",
       "    <tr>\n",
       "      <th>1</th>\n",
       "      <td>4927651</td>\n",
       "      <td>http://www.marreme.com/MasterAdmin/04mop.html</td>\n",
       "      <td>http://www.phishtank.com/phish_detail.php?phis...</td>\n",
       "      <td>2017-04-04T19:35:54+00:00</td>\n",
       "      <td>yes</td>\n",
       "      <td>2017-05-03T23:00:42+00:00</td>\n",
       "      <td>yes</td>\n",
       "      <td>Other</td>\n",
       "    </tr>\n",
       "    <tr>\n",
       "      <th>2</th>\n",
       "      <td>5116976</td>\n",
       "      <td>http://modsecpaststudents.com/review/</td>\n",
       "      <td>http://www.phishtank.com/phish_detail.php?phis...</td>\n",
       "      <td>2017-07-25T18:48:30+00:00</td>\n",
       "      <td>yes</td>\n",
       "      <td>2017-07-28T16:01:36+00:00</td>\n",
       "      <td>yes</td>\n",
       "      <td>Other</td>\n",
       "    </tr>\n",
       "    <tr>\n",
       "      <th>3</th>\n",
       "      <td>6356131</td>\n",
       "      <td>https://docs.google.com/forms/d/e/1FAIpQLScL6L...</td>\n",
       "      <td>http://www.phishtank.com/phish_detail.php?phis...</td>\n",
       "      <td>2020-01-13T20:13:37+00:00</td>\n",
       "      <td>yes</td>\n",
       "      <td>2020-01-17T01:55:38+00:00</td>\n",
       "      <td>yes</td>\n",
       "      <td>Other</td>\n",
       "    </tr>\n",
       "    <tr>\n",
       "      <th>4</th>\n",
       "      <td>6535965</td>\n",
       "      <td>https://oportunidadedasemana.com/americanas//?...</td>\n",
       "      <td>http://www.phishtank.com/phish_detail.php?phis...</td>\n",
       "      <td>2020-04-29T00:01:03+00:00</td>\n",
       "      <td>yes</td>\n",
       "      <td>2020-05-01T10:55:35+00:00</td>\n",
       "      <td>yes</td>\n",
       "      <td>Other</td>\n",
       "    </tr>\n",
       "  </tbody>\n",
       "</table>\n",
       "</div>"
      ],
      "text/plain": [
       "   phish_id                                                url  \\\n",
       "0   6514946                  http://confirmprofileaccount.com/   \n",
       "1   4927651      http://www.marreme.com/MasterAdmin/04mop.html   \n",
       "2   5116976              http://modsecpaststudents.com/review/   \n",
       "3   6356131  https://docs.google.com/forms/d/e/1FAIpQLScL6L...   \n",
       "4   6535965  https://oportunidadedasemana.com/americanas//?...   \n",
       "\n",
       "                                    phish_detail_url  \\\n",
       "0  http://www.phishtank.com/phish_detail.php?phis...   \n",
       "1  http://www.phishtank.com/phish_detail.php?phis...   \n",
       "2  http://www.phishtank.com/phish_detail.php?phis...   \n",
       "3  http://www.phishtank.com/phish_detail.php?phis...   \n",
       "4  http://www.phishtank.com/phish_detail.php?phis...   \n",
       "\n",
       "             submission_time verified          verification_time online target  \n",
       "0  2020-04-19T11:06:55+00:00      yes  2020-04-19T13:42:41+00:00    yes  Other  \n",
       "1  2017-04-04T19:35:54+00:00      yes  2017-05-03T23:00:42+00:00    yes  Other  \n",
       "2  2017-07-25T18:48:30+00:00      yes  2017-07-28T16:01:36+00:00    yes  Other  \n",
       "3  2020-01-13T20:13:37+00:00      yes  2020-01-17T01:55:38+00:00    yes  Other  \n",
       "4  2020-04-29T00:01:03+00:00      yes  2020-05-01T10:55:35+00:00    yes  Other  "
      ]
     },
     "execution_count": 80,
     "metadata": {},
     "output_type": "execute_result"
    }
   ],
   "source": [
    "#Collecting 5,000 Phishing URLs randomly\n",
    "phishurl = data0.sample(n = 5000, random_state = 12).copy()\n",
    "phishurl = phishurl.reset_index(drop=True)\n",
    "phishurl.head()"
   ]
  },
  {
   "cell_type": "code",
   "execution_count": 81,
   "metadata": {
    "colab": {
     "base_uri": "https://localhost:8080/",
     "height": 35
    },
    "colab_type": "code",
    "id": "-FOfv0bspc8N",
    "outputId": "48e76e11-37d7-4ba1-e04a-c2fa661e9219"
   },
   "outputs": [
    {
     "data": {
      "text/plain": [
       "(5000, 8)"
      ]
     },
     "execution_count": 81,
     "metadata": {},
     "output_type": "execute_result"
    }
   ],
   "source": [
    "phishurl.shape"
   ]
  },
  {
   "cell_type": "markdown",
   "metadata": {},
   "source": [
    "**_As of now we collected 5000 phishing URLs. Now, we need to collect the legitimate URLs._**\n",
    "\n",
    "## **2.2. Legitimate URLs:**"
   ]
  },
  {
   "cell_type": "code",
   "execution_count": 82,
   "metadata": {
    "colab": {
     "base_uri": "https://localhost:8080/",
     "height": 200
    },
    "colab_type": "code",
    "id": "0wkw4wGAsIbT",
    "outputId": "4395a2bd-dd8b-49ea-fb1e-36cf0b67e75f"
   },
   "outputs": [
    {
     "data": {
      "text/html": [
       "<div>\n",
       "<style scoped>\n",
       "    .dataframe tbody tr th:only-of-type {\n",
       "        vertical-align: middle;\n",
       "    }\n",
       "\n",
       "    .dataframe tbody tr th {\n",
       "        vertical-align: top;\n",
       "    }\n",
       "\n",
       "    .dataframe thead th {\n",
       "        text-align: right;\n",
       "    }\n",
       "</style>\n",
       "<table border=\"1\" class=\"dataframe\">\n",
       "  <thead>\n",
       "    <tr style=\"text-align: right;\">\n",
       "      <th></th>\n",
       "      <th>URLs</th>\n",
       "    </tr>\n",
       "  </thead>\n",
       "  <tbody>\n",
       "    <tr>\n",
       "      <th>0</th>\n",
       "      <td>http://1337x.to/torrent/1110018/Blackhat-2015-...</td>\n",
       "    </tr>\n",
       "    <tr>\n",
       "      <th>1</th>\n",
       "      <td>http://1337x.to/torrent/1122940/Blackhat-2015-...</td>\n",
       "    </tr>\n",
       "    <tr>\n",
       "      <th>2</th>\n",
       "      <td>http://1337x.to/torrent/1124395/Fast-and-Furio...</td>\n",
       "    </tr>\n",
       "    <tr>\n",
       "      <th>3</th>\n",
       "      <td>http://1337x.to/torrent/1145504/Avengers-Age-o...</td>\n",
       "    </tr>\n",
       "    <tr>\n",
       "      <th>4</th>\n",
       "      <td>http://1337x.to/torrent/1160078/Avengers-age-o...</td>\n",
       "    </tr>\n",
       "  </tbody>\n",
       "</table>\n",
       "</div>"
      ],
      "text/plain": [
       "                                                URLs\n",
       "0  http://1337x.to/torrent/1110018/Blackhat-2015-...\n",
       "1  http://1337x.to/torrent/1122940/Blackhat-2015-...\n",
       "2  http://1337x.to/torrent/1124395/Fast-and-Furio...\n",
       "3  http://1337x.to/torrent/1145504/Avengers-Age-o...\n",
       "4  http://1337x.to/torrent/1160078/Avengers-age-o..."
      ]
     },
     "execution_count": 82,
     "metadata": {},
     "output_type": "execute_result"
    }
   ],
   "source": [
    "#Loading legitimate files \n",
    "data1 = pd.read_csv(r\"D:\\Final Year Project\\Project_01\\Phishing-Website-Detection-by-Machine-Learning-Techniques-master\\DataFiles\\1.Benign_list_big_final.csv\")\n",
    "data1.columns = ['URLs']\n",
    "data1.head()"
   ]
  },
  {
   "cell_type": "code",
   "execution_count": 83,
   "metadata": {},
   "outputs": [
    {
     "data": {
      "text/plain": [
       "(35377, 1)"
      ]
     },
     "execution_count": 83,
     "metadata": {},
     "output_type": "execute_result"
    }
   ],
   "source": [
    "data1.shape"
   ]
  },
  {
   "cell_type": "markdown",
   "metadata": {},
   "source": [
    "**_As stated above, 5000 legitimate URLs are randomaly picked from the above dataframe._**"
   ]
  },
  {
   "cell_type": "code",
   "execution_count": 84,
   "metadata": {
    "colab": {
     "base_uri": "https://localhost:8080/",
     "height": 200
    },
    "colab_type": "code",
    "id": "EQRtf9Ybs5sv",
    "outputId": "227e262b-1483-4549-8bdf-49da2f321b06"
   },
   "outputs": [
    {
     "data": {
      "text/html": [
       "<div>\n",
       "<style scoped>\n",
       "    .dataframe tbody tr th:only-of-type {\n",
       "        vertical-align: middle;\n",
       "    }\n",
       "\n",
       "    .dataframe tbody tr th {\n",
       "        vertical-align: top;\n",
       "    }\n",
       "\n",
       "    .dataframe thead th {\n",
       "        text-align: right;\n",
       "    }\n",
       "</style>\n",
       "<table border=\"1\" class=\"dataframe\">\n",
       "  <thead>\n",
       "    <tr style=\"text-align: right;\">\n",
       "      <th></th>\n",
       "      <th>URLs</th>\n",
       "    </tr>\n",
       "  </thead>\n",
       "  <tbody>\n",
       "    <tr>\n",
       "      <th>0</th>\n",
       "      <td>http://graphicriver.net/search?date=this-month...</td>\n",
       "    </tr>\n",
       "    <tr>\n",
       "      <th>1</th>\n",
       "      <td>http://ecnavi.jp/redirect/?url=http://www.cros...</td>\n",
       "    </tr>\n",
       "    <tr>\n",
       "      <th>2</th>\n",
       "      <td>https://hubpages.com/signin?explain=follow+Hub...</td>\n",
       "    </tr>\n",
       "    <tr>\n",
       "      <th>3</th>\n",
       "      <td>http://extratorrent.cc/torrent/4190536/AOMEI+B...</td>\n",
       "    </tr>\n",
       "    <tr>\n",
       "      <th>4</th>\n",
       "      <td>http://icicibank.com/Personal-Banking/offers/o...</td>\n",
       "    </tr>\n",
       "  </tbody>\n",
       "</table>\n",
       "</div>"
      ],
      "text/plain": [
       "                                                URLs\n",
       "0  http://graphicriver.net/search?date=this-month...\n",
       "1  http://ecnavi.jp/redirect/?url=http://www.cros...\n",
       "2  https://hubpages.com/signin?explain=follow+Hub...\n",
       "3  http://extratorrent.cc/torrent/4190536/AOMEI+B...\n",
       "4  http://icicibank.com/Personal-Banking/offers/o..."
      ]
     },
     "execution_count": 84,
     "metadata": {},
     "output_type": "execute_result"
    }
   ],
   "source": [
    "#Collecting 5,000 Legitimate URLs randomly\n",
    "legiurl = data1.sample(n = 5000, random_state = 12).copy()\n",
    "legiurl = legiurl.reset_index(drop=True)\n",
    "legiurl.head()"
   ]
  },
  {
   "cell_type": "code",
   "execution_count": 85,
   "metadata": {
    "colab": {
     "base_uri": "https://localhost:8080/",
     "height": 35
    },
    "colab_type": "code",
    "id": "QrpSRXzDuKwW",
    "outputId": "8b8e5220-be59-4893-9dd5-3ffc381d2b1d"
   },
   "outputs": [
    {
     "data": {
      "text/plain": [
       "(5000, 1)"
      ]
     },
     "execution_count": 85,
     "metadata": {},
     "output_type": "execute_result"
    }
   ],
   "source": [
    "legiurl.shape"
   ]
  },
  {
   "cell_type": "markdown",
   "metadata": {
    "colab_type": "text",
    "id": "xbzZbsWIEV6J"
   },
   "source": [
    "# **3. Feature Extraction:**(Data Cleaning)\n",
    "\n",
    "In this step, features are extracted from the URLs dataset.\n",
    "\n",
    "The extracted features are categorized into\n",
    "\n",
    "\n",
    "1.   Address Bar based Features\n",
    "2.   Domain based Features\n",
    "3.   HTML & Javascript based Features"
   ]
  },
  {
   "cell_type": "markdown",
   "metadata": {
    "colab_type": "text",
    "id": "vABNo39RQljI"
   },
   "source": [
    "#### **3.1. Address Bar Based Features:**\n",
    "\n",
    "Many features can be extracted that can be consided as address bar base features. Out of them, below mentioned were considered for this project.\n",
    "\n",
    "\n",
    "*   Domain of URL\n",
    "*   IP Address in URL\n",
    "*   \"@\" Symbol in URL\n",
    "*   Length of URL\n",
    "*   Depth of URL\n",
    "*   Redirection \"//\" in URL\n",
    "*   \"http/https\" in Domain name\n",
    "*   Using URL Shortening Services “TinyURL”\n",
    "*   Prefix or Suffix \"-\" in Domain\n",
    "\n",
    "Each of these features are explained and the coded below:"
   ]
  },
  {
   "cell_type": "code",
   "execution_count": 86,
   "metadata": {
    "colab": {},
    "colab_type": "code",
    "id": "Rk4HFWsEKXpS"
   },
   "outputs": [],
   "source": [
    "# importing required packages for this section\n",
    "from urllib.parse import urlparse,urlencode\n",
    "import ipaddress\n",
    "import re"
   ]
  },
  {
   "cell_type": "markdown",
   "metadata": {
    "colab_type": "text",
    "id": "xd-UZd3c60-a"
   },
   "source": [
    "#### **3.1.1. Domain of the URL**\n",
    "Here, we are just extracting the domain present in the URL. This feature doesn't have much significance in the training. May even be dropped while training the model."
   ]
  },
  {
   "cell_type": "code",
   "execution_count": 87,
   "metadata": {
    "colab": {},
    "colab_type": "code",
    "id": "S0QorYenhaOD"
   },
   "outputs": [],
   "source": [
    "# 1.Domain of the URL (Domain) \n",
    "def getDomain(url):  \n",
    "  domain = urlparse(url).netloc\n",
    "  if re.match(r\"^www.\",domain):\n",
    "\t       domain = domain.replace(\"www.\",\"\")\n",
    "  return domain"
   ]
  },
  {
   "cell_type": "markdown",
   "metadata": {
    "colab_type": "text",
    "id": "1EPO6HJ87Pdv"
   },
   "source": [
    "#### **3.1.2. IP Address in the URL**\n",
    "\n",
    "Checks for the presence of IP address in the URL. URLs may have IP address instead of domain name. If an IP address is used as an alternative of the domain name in the URL, we can be sure that someone is trying to steal personal information with this URL.\n",
    "\n",
    "If the domain part of URL has IP address, the value assigned to this feature is 1 (phishing) or else 0 (legitimate).\n",
    "\n"
   ]
  },
  {
   "cell_type": "code",
   "execution_count": 88,
   "metadata": {
    "colab": {},
    "colab_type": "code",
    "id": "SX-4mbq27QBj"
   },
   "outputs": [],
   "source": [
    "# 2.Checks for IP address in URL (Have_IP)\n",
    "def havingIP(url):\n",
    "  try:\n",
    "    ipaddress.ip_address(url)\n",
    "    ip = 1\n",
    "  except:\n",
    "    ip = 0\n",
    "  return ip\n"
   ]
  },
  {
   "cell_type": "markdown",
   "metadata": {},
   "source": [
    "#### **3.1.3. \"@\" Symbol in URL**\n",
    "\n",
    "Checks for the presence of '@' symbol in the URL. Using “@” symbol in the URL leads the browser to ignore everything preceding the “@” symbol and the real address often follows the “@” symbol. \n",
    "\n",
    "If the URL has '@' symbol, the value assigned to this feature is 1 (phishing) or else 0 (legitimate)."
   ]
  },
  {
   "cell_type": "code",
   "execution_count": 89,
   "metadata": {
    "colab": {},
    "colab_type": "code",
    "id": "XZQZi3K17TcR"
   },
   "outputs": [],
   "source": [
    "# 3.Checks the presence of @ in URL (Have_At)\n",
    "def haveAtSign(url):\n",
    "  if \"@\" in url:\n",
    "    at = 1    \n",
    "  else:\n",
    "    at = 0    \n",
    "  return at"
   ]
  },
  {
   "cell_type": "markdown",
   "metadata": {},
   "source": [
    "#### **3.1.4. Length of URL**\n",
    "\n",
    "Computes the length of the URL. Phishers can use long URL to hide the doubtful part in the address bar. In this project, if the length of the URL is greater than or equal 54 characters then the URL classified as phishing otherwise legitimate.\n",
    "\n",
    "If the length of URL >= 54 , the value assigned to this feature is 1 (phishing) or else 0 (legitimate)."
   ]
  },
  {
   "cell_type": "code",
   "execution_count": 90,
   "metadata": {
    "colab": {},
    "colab_type": "code",
    "id": "fnQazil39Kra"
   },
   "outputs": [],
   "source": [
    "# 4.Finding the length of URL and categorizing (URL_Length)\n",
    "def getLength(url):\n",
    "  if len(url) < 54:\n",
    "    length = 0            \n",
    "  else:\n",
    "    length = 1            \n",
    "  return length"
   ]
  },
  {
   "cell_type": "markdown",
   "metadata": {},
   "source": [
    "#### **3.1.5. Depth of URL**\n",
    "\n",
    "Computes the depth of the URL. This feature calculates the number of sub pages in the given url based on the '/'.\n",
    "\n",
    "The value of feature is a numerical based on the URL."
   ]
  },
  {
   "cell_type": "code",
   "execution_count": 91,
   "metadata": {
    "colab": {},
    "colab_type": "code",
    "id": "yILgNFf_9L3X"
   },
   "outputs": [],
   "source": [
    "# 5.Gives number of '/' in URL (URL_Depth)\n",
    "def getDepth(url):\n",
    "  s = urlparse(url).path.split('/')\n",
    "  depth = 0\n",
    "  for j in range(len(s)):\n",
    "    if len(s[j]) != 0:\n",
    "      depth = depth+1\n",
    "  return depth"
   ]
  },
  {
   "cell_type": "code",
   "execution_count": null,
   "metadata": {},
   "outputs": [],
   "source": []
  },
  {
   "cell_type": "markdown",
   "metadata": {},
   "source": [
    "#### **3.1.6. Redirection \"//\" in URL**\n",
    "\n",
    "Checks the presence of \"//\" in the URL. The existence of “//” within the URL path means that the user will be redirected to another website. The location of the “//” in URL is computed. We find that if the URL starts with “HTTP”, that means the “//” should appear in the sixth position. However, if the URL employs “HTTPS” then the “//” should appear in seventh position.\n",
    "\n",
    "If the \"//\" is anywhere in the URL apart from after the protocal, thee value assigned to this feature is 1 (phishing) or else 0 (legitimate)."
   ]
  },
  {
   "cell_type": "code",
   "execution_count": 92,
   "metadata": {
    "colab": {},
    "colab_type": "code",
    "id": "RIJEiq51BSy0"
   },
   "outputs": [],
   "source": [
    "# 6.Checking for redirection '//' in the url (Redirection)\n",
    "def redirection(url):\n",
    "  pos = url.rfind('//')\n",
    "  if pos > 6:\n",
    "    if pos > 7:\n",
    "      return 1\n",
    "    else:\n",
    "      return 0\n",
    "  else:\n",
    "    return 0"
   ]
  },
  {
   "cell_type": "markdown",
   "metadata": {},
   "source": [
    "#### **3.1.7. \"http/https\" in Domain name**\n",
    "\n",
    "Checks for the presence of \"http/https\" in the domain part of the URL. The phishers may add the “HTTPS” token to the domain part of a URL in order to trick users.\n",
    "\n",
    "If the URL has \"http/https\" in the domain part, the value assigned to this feature is 1 (phishing) or else 0 (legitimate)."
   ]
  },
  {
   "cell_type": "code",
   "execution_count": 93,
   "metadata": {},
   "outputs": [],
   "source": [
    "# 7.Existence of “HTTPS” Token in the Domain Part of the URL (https_Domain)\n",
    "def httpDomain(url):\n",
    "  domain = urlparse(url).netloc\n",
    "  if 'https' in domain:\n",
    "    return 1\n",
    "  else:\n",
    "    return 0"
   ]
  },
  {
   "cell_type": "markdown",
   "metadata": {},
   "source": [
    "#### **3.1.8. Using URL Shortening Services “TinyURL”**\n",
    "\n",
    "URL shortening is a method on the “World Wide Web” in which a URL may be made considerably smaller in length and still lead to the required webpage. This is accomplished by means of an “HTTP Redirect” on a domain name that is short, which links to the webpage that has a long URL. \n",
    "\n",
    "If the URL is using Shortening Services, the value assigned to this feature is 1 (phishing) or else 0 (legitimate)."
   ]
  },
  {
   "cell_type": "code",
   "execution_count": 94,
   "metadata": {},
   "outputs": [],
   "source": [
    "#listing shortening services\n",
    "shortening_services = r\"bit\\.ly|goo\\.gl|shorte\\.st|go2l\\.ink|x\\.co|ow\\.ly|t\\.co|tinyurl|tr\\.im|is\\.gd|cli\\.gs|\" \\\n",
    "                      r\"yfrog\\.com|migre\\.me|ff\\.im|tiny\\.cc|url4\\.eu|twit\\.ac|su\\.pr|twurl\\.nl|snipurl\\.com|\" \\\n",
    "                      r\"short\\.to|BudURL\\.com|ping\\.fm|post\\.ly|Just\\.as|bkite\\.com|snipr\\.com|fic\\.kr|loopt\\.us|\" \\\n",
    "                      r\"doiop\\.com|short\\.ie|kl\\.am|wp\\.me|rubyurl\\.com|om\\.ly|to\\.ly|bit\\.do|t\\.co|lnkd\\.in|db\\.tt|\" \\\n",
    "                      r\"qr\\.ae|adf\\.ly|goo\\.gl|bitly\\.com|cur\\.lv|tinyurl\\.com|ow\\.ly|bit\\.ly|ity\\.im|q\\.gs|is\\.gd|\" \\\n",
    "                      r\"po\\.st|bc\\.vc|twitthis\\.com|u\\.to|j\\.mp|buzurl\\.com|cutt\\.us|u\\.bb|yourls\\.org|x\\.co|\" \\\n",
    "                      r\"prettylinkpro\\.com|scrnch\\.me|filoops\\.info|vzturl\\.com|qr\\.net|1url\\.com|tweez\\.me|v\\.gd|\" \\\n",
    "                      r\"tr\\.im|link\\.zip\\.net\""
   ]
  },
  {
   "cell_type": "code",
   "execution_count": 95,
   "metadata": {},
   "outputs": [],
   "source": [
    "# 8. Checking for Shortening Services in URL (Tiny_URL)\n",
    "def tinyURL(url):\n",
    "    match=re.search(shortening_services,url)\n",
    "    if match:\n",
    "        return 1\n",
    "    else:\n",
    "        return 0"
   ]
  },
  {
   "cell_type": "markdown",
   "metadata": {},
   "source": [
    "#### **3.1.9. Prefix or Suffix \"-\" in Domain**\n",
    "\n",
    "Checking the presence of '-' in the domain part of URL. The dash symbol is rarely used in legitimate URLs. Phishers tend to add prefixes or suffixes separated by (-) to the domain name so that users feel that they are dealing with a legitimate webpage. \n",
    "\n",
    "If the URL has '-' symbol in the domain part of the URL, the value assigned to this feature is 1 (phishing) or else 0 (legitimate)."
   ]
  },
  {
   "cell_type": "code",
   "execution_count": 96,
   "metadata": {},
   "outputs": [],
   "source": [
    "#9. Checking prfix or suffix in URL\n",
    "def prefixSuffix(url):\n",
    "    if '-' in urlparse(url).netloc:\n",
    "        return 1            \n",
    "    else:\n",
    "        return 0     "
   ]
  },
  {
   "cell_type": "markdown",
   "metadata": {},
   "source": [
    "### **3.2. Domain Based Features:**\n",
    "\n",
    "Many features can be extracted that come under this category. Out of them, below mentioned were considered for this project.\n",
    "\n",
    "*   Website Traffic \n",
    "*   Age of Domain\n",
    "*   DNS Record\n",
    "*   End Period of Domain\n",
    "\n",
    "Each of these features are explained and the coded below:"
   ]
  },
  {
   "cell_type": "code",
   "execution_count": 97,
   "metadata": {},
   "outputs": [],
   "source": [
    "# importing required packages for this section\n",
    "import re\n",
    "from bs4 import BeautifulSoup\n",
    "import whois\n",
    "import urllib\n",
    "import urllib.request\n",
    "from datetime import datetime"
   ]
  },
  {
   "cell_type": "markdown",
   "metadata": {},
   "source": [
    "#### **3.2.1. DNS Record**\n",
    "\n",
    "For phishing websites, either the claimed identity is not recognized by the WHOIS database or no records founded for the hostname. \n",
    "If the DNS record is empty or not found then, the value assigned to this feature is 1 (phishing) or else 0 (legitimate)."
   ]
  },
  {
   "cell_type": "markdown",
   "metadata": {},
   "source": [
    "**_DNS Record availability (DNS_Record) obtained in the featureExtraction function itself._**"
   ]
  },
  {
   "cell_type": "markdown",
   "metadata": {},
   "source": [
    "#### **3.2.2. Web Traffic**\n",
    "\n",
    "This feature measures the popularity of the website by determining the number of visitors and the number of pages they visit. However, since phishing websites live for a short period of time, they may not be recognized by the Alexa database (Alexa the Web Information Company., 1996). By reviewing our dataset, we find that in worst scenarios, legitimate websites ranked among the top 100,000. Furthermore, if the domain has no traffic or is not recognized by the Alexa database, it is classified as “Phishing”.\n",
    "\n",
    "If the rank of the domain < 100000, the vlaue of this feature is 1 (phishing) else 0 (legitimate)."
   ]
  },
  {
   "cell_type": "code",
   "execution_count": 98,
   "metadata": {},
   "outputs": [],
   "source": [
    "# 12.Website traffic (Web_Traffic)\n",
    "def web_traffic(url):\n",
    "  try:\n",
    "    #Filling the whitespaces in the URL if any\n",
    "    url = urllib.parse.quote(url)\n",
    "    rank = BeautifulSoup(urllib.request.urlopen(\"http://data.alexa.com/data?cli=10&dat=s&url=\" + url).read(), \"xml\").find(\n",
    "        \"REACH\")['RANK']\n",
    "    rank = int(rank)\n",
    "  except TypeError:\n",
    "        return 1\n",
    "  if rank >1000000:\n",
    "    return 1\n",
    "  else:\n",
    "    return 0"
   ]
  },
  {
   "cell_type": "markdown",
   "metadata": {},
   "source": [
    "#### **3.2.3. Age of Domain**\n",
    "\n",
    "This feature can be extracted from WHOIS database. Most phishing websites live for a short period of time. The minimum age of the legitimate domain is considered to be 12 months for this project. Age here is nothing but different between creation and expiration time.\n",
    "\n",
    "If age of domain > 12 months, the vlaue of this feature is 1 (phishing) else 0 (legitimate)."
   ]
  },
  {
   "cell_type": "code",
   "execution_count": 99,
   "metadata": {},
   "outputs": [],
   "source": [
    "# 13.Survival time of domain: The difference between termination time and creation time (Domain_Age)  \n",
    "def domainAge(domain_name):\n",
    "  creation_date = domain_name.creation_date\n",
    "  expiration_date = domain_name.expiration_date\n",
    "  if (isinstance(creation_date,str) or isinstance(expiration_date,str)):\n",
    "    try:\n",
    "      creation_date = datetime.strptime(creation_date,'%Y-%m-%d')\n",
    "      expiration_date = datetime.strptime(expiration_date,\"%Y-%m-%d\")\n",
    "    except:\n",
    "      return 1\n",
    "  if ((expiration_date is None) or (creation_date is None)):\n",
    "      return 1\n",
    "  elif ((type(expiration_date) is list) or (type(creation_date) is list)):\n",
    "      return 1\n",
    "  else:\n",
    "    ageofdomain = abs((expiration_date - creation_date).days)\n",
    "    if ((ageofdomain/30) < 6):\n",
    "      age = 1\n",
    "    else:\n",
    "      age = 0\n",
    "  return age"
   ]
  },
  {
   "cell_type": "markdown",
   "metadata": {},
   "source": [
    "#### **3.2.4. End Period of Domain**\n",
    "\n",
    "This feature can be extracted from WHOIS database. For this feature, the remaining domain time is calculated by finding the different between expiration time & current time. The end period considered for the legitimate domain is 6 months or less  for this project. \n",
    "\n",
    "If end period of domain > 6 months, the vlaue of this feature is 1 (phishing) else 0 (legitimate)."
   ]
  },
  {
   "cell_type": "code",
   "execution_count": 100,
   "metadata": {},
   "outputs": [],
   "source": [
    "# 14.End time of domain: The difference between termination time and current time (Domain_End) \n",
    "def domainEnd(domain_name):\n",
    "  expiration_date = domain_name.expiration_date\n",
    "  if isinstance(expiration_date,str):\n",
    "    try:\n",
    "      expiration_date = datetime.strptime(expiration_date,\"%Y-%m-%d\")\n",
    "    except:\n",
    "      return 1\n",
    "  if (expiration_date is None):\n",
    "      return 1\n",
    "  elif (type(expiration_date) is list):\n",
    "      return 1\n",
    "  else:\n",
    "    today = datetime.now()\n",
    "    end = abs((expiration_date - today).days)\n",
    "    if ((end/30) < 6):\n",
    "      end = 0\n",
    "    else:\n",
    "      end = 1\n",
    "  return end"
   ]
  },
  {
   "cell_type": "markdown",
   "metadata": {},
   "source": [
    "## **3.3. HTML and JavaScript based Features**\n",
    "\n",
    "Many features can be extracted that come under this category. Out of them, below mentioned were considered for this project.\n",
    "\n",
    "*   IFrame Redirection\n",
    "*   Status Bar Customization\n",
    "*   Disabling Right Click\n",
    "*   Website Forwarding\n",
    "\n",
    "Each of these features are explained and the coded below:"
   ]
  },
  {
   "cell_type": "code",
   "execution_count": 101,
   "metadata": {},
   "outputs": [],
   "source": [
    "import requests"
   ]
  },
  {
   "cell_type": "markdown",
   "metadata": {},
   "source": [
    "### **3.3.1. IFrame Redirection**\n",
    "\n",
    "IFrame is an HTML tag used to display an additional webpage into one that is currently shown. Phishers can make use of the “iframe” tag and make it invisible i.e. without frame borders. In this regard, phishers make use of the “frameBorder” attribute which causes the browser to render a visual delineation. \n",
    "\n",
    "If the iframe is empty or repsonse is not found then, the value assigned to this feature is 1 (phishing) or else 0 (legitimate)."
   ]
  },
  {
   "cell_type": "code",
   "execution_count": 102,
   "metadata": {},
   "outputs": [],
   "source": [
    "# 15. IFrame Redirection (iFrame)\n",
    "def iframe(response):\n",
    "  if response == \"\":\n",
    "      return 1\n",
    "  else:\n",
    "      if re.findall(r\"[<iframe>|<frameBorder>]\", response.text):\n",
    "          return 0\n",
    "      else:\n",
    "          return 1"
   ]
  },
  {
   "cell_type": "markdown",
   "metadata": {},
   "source": [
    "### **3.3.2. Status Bar Customization**\n",
    "\n",
    "Phishers may use JavaScript to show a fake URL in the status bar to users. To extract this feature, we must dig-out the webpage source code, particularly the “onMouseOver” event, and check if it makes any changes on the status bar\n",
    "\n",
    "If the response is empty or onmouseover is found then, the value assigned to this feature is 1 (phishing) or else 0 (legitimate)."
   ]
  },
  {
   "cell_type": "code",
   "execution_count": 103,
   "metadata": {},
   "outputs": [],
   "source": [
    "# 16.Checks the effect of mouse over on status bar (Mouse_Over)\n",
    "def mouseOver(response): \n",
    "  if response == \"\" :\n",
    "    return 1\n",
    "  else:\n",
    "    if re.findall(\"<script>.+onmouseover.+</script>\", response.text):\n",
    "      return 1\n",
    "    else:\n",
    "      return 0"
   ]
  },
  {
   "cell_type": "markdown",
   "metadata": {},
   "source": [
    "### **3.3.3. Disabling Right Click**\n",
    "\n",
    "Phishers use JavaScript to disable the right-click function, so that users cannot view and save the webpage source code. This feature is treated exactly as “Using onMouseOver to hide the Link”. Nonetheless, for this feature, we will search for event “event.button==2” in the webpage source code and check if the right click is disabled.\n",
    "\n",
    "If the response is empty or onmouseover is not found then, the value assigned to this feature is 1 (phishing) or else 0 (legitimate).\n",
    "\n",
    "\n"
   ]
  },
  {
   "cell_type": "code",
   "execution_count": 104,
   "metadata": {},
   "outputs": [],
   "source": [
    "# 17.Checks the status of the right click attribute (Right_Click)\n",
    "def rightClick(response):\n",
    "  if response == \"\":\n",
    "    return 1\n",
    "  else:\n",
    "    if re.findall(r\"event.button ?== ?2\", response.text):\n",
    "      return 0\n",
    "    else:\n",
    "      return 1"
   ]
  },
  {
   "cell_type": "markdown",
   "metadata": {},
   "source": [
    "### **3.3.4. Website Forwarding**\n",
    "The fine line that distinguishes phishing websites from legitimate ones is how many times a website has been redirected. In our dataset, we find that legitimate websites have been redirected one time max. On the other hand, phishing websites containing this feature have been redirected at least 4 times. "
   ]
  },
  {
   "cell_type": "code",
   "execution_count": 105,
   "metadata": {},
   "outputs": [],
   "source": [
    "# 18.Checks the number of forwardings (Web_Forwards)    \n",
    "def forwarding(response):\n",
    "  if response == \"\":\n",
    "    return 1\n",
    "  else:\n",
    "    if len(response.history) <= 2:\n",
    "      return 0\n",
    "    else:\n",
    "      return 1"
   ]
  },
  {
   "cell_type": "markdown",
   "metadata": {},
   "source": [
    "## **4. Computing URL Features**\n",
    "\n",
    "Create a list and a function that calls the other functions and stores all the features of the URL in the list. We will extract the features of each URL and append to this list."
   ]
  },
  {
   "cell_type": "code",
   "execution_count": 106,
   "metadata": {},
   "outputs": [],
   "source": [
    "#Function to extract features\n",
    "def featureExtraction(url,label):\n",
    "\n",
    "  features = []\n",
    "  #Address bar based features (10)\n",
    "  features.append(getDomain(url))\n",
    "  features.append(havingIP(url))\n",
    "  features.append(haveAtSign(url))\n",
    "  features.append(getLength(url))\n",
    "  features.append(getDepth(url))\n",
    "  features.append(redirection(url))\n",
    "  features.append(httpDomain(url))\n",
    "  features.append(tinyURL(url))\n",
    "  features.append(prefixSuffix(url))\n",
    "  \n",
    "  #Domain based features (4)\n",
    "  dns = 0\n",
    "  try:\n",
    "    domain_name = whois.whois(urlparse(url).netloc)\n",
    "  except:\n",
    "    dns = 1\n",
    "\n",
    "  features.append(dns)\n",
    "  features.append(web_traffic(url))\n",
    "  features.append(1 if dns == 1 else domainAge(domain_name))\n",
    "  features.append(1 if dns == 1 else domainEnd(domain_name))\n",
    "  \n",
    "  # HTML & Javascript based features (4)\n",
    "  try:\n",
    "    response = requests.get(url)\n",
    "  except:\n",
    "    response = \"\"\n",
    "  features.append(iframe(response))\n",
    "  features.append(mouseOver(response))\n",
    "  features.append(rightClick(response))\n",
    "  features.append(forwarding(response))\n",
    "  features.append(label)\n",
    "  \n",
    "  return features"
   ]
  },
  {
   "cell_type": "markdown",
   "metadata": {},
   "source": [
    "### **4.1. Legitimate URLs:**\n",
    "\n",
    "Now, feature extraction is done on legitimate URLs."
   ]
  },
  {
   "cell_type": "code",
   "execution_count": 107,
   "metadata": {},
   "outputs": [
    {
     "data": {
      "text/plain": [
       "(5000, 1)"
      ]
     },
     "execution_count": 107,
     "metadata": {},
     "output_type": "execute_result"
    }
   ],
   "source": [
    "legiurl.shape"
   ]
  },
  {
   "cell_type": "code",
   "execution_count": 108,
   "metadata": {},
   "outputs": [
    {
     "data": {
      "text/html": [
       "<div>\n",
       "<style scoped>\n",
       "    .dataframe tbody tr th:only-of-type {\n",
       "        vertical-align: middle;\n",
       "    }\n",
       "\n",
       "    .dataframe tbody tr th {\n",
       "        vertical-align: top;\n",
       "    }\n",
       "\n",
       "    .dataframe thead th {\n",
       "        text-align: right;\n",
       "    }\n",
       "</style>\n",
       "<table border=\"1\" class=\"dataframe\">\n",
       "  <thead>\n",
       "    <tr style=\"text-align: right;\">\n",
       "      <th></th>\n",
       "      <th>URLs</th>\n",
       "    </tr>\n",
       "  </thead>\n",
       "  <tbody>\n",
       "    <tr>\n",
       "      <th>0</th>\n",
       "      <td>http://graphicriver.net/search?date=this-month...</td>\n",
       "    </tr>\n",
       "    <tr>\n",
       "      <th>1</th>\n",
       "      <td>http://ecnavi.jp/redirect/?url=http://www.cros...</td>\n",
       "    </tr>\n",
       "    <tr>\n",
       "      <th>2</th>\n",
       "      <td>https://hubpages.com/signin?explain=follow+Hub...</td>\n",
       "    </tr>\n",
       "    <tr>\n",
       "      <th>3</th>\n",
       "      <td>http://extratorrent.cc/torrent/4190536/AOMEI+B...</td>\n",
       "    </tr>\n",
       "    <tr>\n",
       "      <th>4</th>\n",
       "      <td>http://icicibank.com/Personal-Banking/offers/o...</td>\n",
       "    </tr>\n",
       "    <tr>\n",
       "      <th>...</th>\n",
       "      <td>...</td>\n",
       "    </tr>\n",
       "    <tr>\n",
       "      <th>4995</th>\n",
       "      <td>http://getpocket.com/signup?mode=socialmode&amp;ro...</td>\n",
       "    </tr>\n",
       "    <tr>\n",
       "      <th>4996</th>\n",
       "      <td>http://olx.ro/i2/electronice-si-electrocasnice...</td>\n",
       "    </tr>\n",
       "    <tr>\n",
       "      <th>4997</th>\n",
       "      <td>https://medium.com/@brianforde/hi-matt-that-s-...</td>\n",
       "    </tr>\n",
       "    <tr>\n",
       "      <th>4998</th>\n",
       "      <td>http://thenextweb.com/au/2013/08/31/25-mbps-br...</td>\n",
       "    </tr>\n",
       "    <tr>\n",
       "      <th>4999</th>\n",
       "      <td>http://smallseotools.com/blog/the-difference-b...</td>\n",
       "    </tr>\n",
       "  </tbody>\n",
       "</table>\n",
       "<p>5000 rows × 1 columns</p>\n",
       "</div>"
      ],
      "text/plain": [
       "                                                   URLs\n",
       "0     http://graphicriver.net/search?date=this-month...\n",
       "1     http://ecnavi.jp/redirect/?url=http://www.cros...\n",
       "2     https://hubpages.com/signin?explain=follow+Hub...\n",
       "3     http://extratorrent.cc/torrent/4190536/AOMEI+B...\n",
       "4     http://icicibank.com/Personal-Banking/offers/o...\n",
       "...                                                 ...\n",
       "4995  http://getpocket.com/signup?mode=socialmode&ro...\n",
       "4996  http://olx.ro/i2/electronice-si-electrocasnice...\n",
       "4997  https://medium.com/@brianforde/hi-matt-that-s-...\n",
       "4998  http://thenextweb.com/au/2013/08/31/25-mbps-br...\n",
       "4999  http://smallseotools.com/blog/the-difference-b...\n",
       "\n",
       "[5000 rows x 1 columns]"
      ]
     },
     "execution_count": 108,
     "metadata": {},
     "output_type": "execute_result"
    }
   ],
   "source": [
    "legiurl"
   ]
  },
  {
   "cell_type": "markdown",
   "metadata": {},
   "source": [
    "### **4.2. Phishing URLs:**\n",
    "\n",
    "Now, feature extraction is performed on phishing URLs."
   ]
  },
  {
   "cell_type": "code",
   "execution_count": 109,
   "metadata": {},
   "outputs": [
    {
     "data": {
      "text/plain": [
       "(5000, 8)"
      ]
     },
     "execution_count": 109,
     "metadata": {},
     "output_type": "execute_result"
    }
   ],
   "source": [
    "phishurl.shape"
   ]
  },
  {
   "cell_type": "code",
   "execution_count": 110,
   "metadata": {
    "scrolled": true
   },
   "outputs": [
    {
     "data": {
      "text/html": [
       "<div>\n",
       "<style scoped>\n",
       "    .dataframe tbody tr th:only-of-type {\n",
       "        vertical-align: middle;\n",
       "    }\n",
       "\n",
       "    .dataframe tbody tr th {\n",
       "        vertical-align: top;\n",
       "    }\n",
       "\n",
       "    .dataframe thead th {\n",
       "        text-align: right;\n",
       "    }\n",
       "</style>\n",
       "<table border=\"1\" class=\"dataframe\">\n",
       "  <thead>\n",
       "    <tr style=\"text-align: right;\">\n",
       "      <th></th>\n",
       "      <th>phish_id</th>\n",
       "      <th>url</th>\n",
       "      <th>phish_detail_url</th>\n",
       "      <th>submission_time</th>\n",
       "      <th>verified</th>\n",
       "      <th>verification_time</th>\n",
       "      <th>online</th>\n",
       "      <th>target</th>\n",
       "    </tr>\n",
       "  </thead>\n",
       "  <tbody>\n",
       "    <tr>\n",
       "      <th>0</th>\n",
       "      <td>6514946</td>\n",
       "      <td>http://confirmprofileaccount.com/</td>\n",
       "      <td>http://www.phishtank.com/phish_detail.php?phis...</td>\n",
       "      <td>2020-04-19T11:06:55+00:00</td>\n",
       "      <td>yes</td>\n",
       "      <td>2020-04-19T13:42:41+00:00</td>\n",
       "      <td>yes</td>\n",
       "      <td>Other</td>\n",
       "    </tr>\n",
       "    <tr>\n",
       "      <th>1</th>\n",
       "      <td>4927651</td>\n",
       "      <td>http://www.marreme.com/MasterAdmin/04mop.html</td>\n",
       "      <td>http://www.phishtank.com/phish_detail.php?phis...</td>\n",
       "      <td>2017-04-04T19:35:54+00:00</td>\n",
       "      <td>yes</td>\n",
       "      <td>2017-05-03T23:00:42+00:00</td>\n",
       "      <td>yes</td>\n",
       "      <td>Other</td>\n",
       "    </tr>\n",
       "    <tr>\n",
       "      <th>2</th>\n",
       "      <td>5116976</td>\n",
       "      <td>http://modsecpaststudents.com/review/</td>\n",
       "      <td>http://www.phishtank.com/phish_detail.php?phis...</td>\n",
       "      <td>2017-07-25T18:48:30+00:00</td>\n",
       "      <td>yes</td>\n",
       "      <td>2017-07-28T16:01:36+00:00</td>\n",
       "      <td>yes</td>\n",
       "      <td>Other</td>\n",
       "    </tr>\n",
       "    <tr>\n",
       "      <th>3</th>\n",
       "      <td>6356131</td>\n",
       "      <td>https://docs.google.com/forms/d/e/1FAIpQLScL6L...</td>\n",
       "      <td>http://www.phishtank.com/phish_detail.php?phis...</td>\n",
       "      <td>2020-01-13T20:13:37+00:00</td>\n",
       "      <td>yes</td>\n",
       "      <td>2020-01-17T01:55:38+00:00</td>\n",
       "      <td>yes</td>\n",
       "      <td>Other</td>\n",
       "    </tr>\n",
       "    <tr>\n",
       "      <th>4</th>\n",
       "      <td>6535965</td>\n",
       "      <td>https://oportunidadedasemana.com/americanas//?...</td>\n",
       "      <td>http://www.phishtank.com/phish_detail.php?phis...</td>\n",
       "      <td>2020-04-29T00:01:03+00:00</td>\n",
       "      <td>yes</td>\n",
       "      <td>2020-05-01T10:55:35+00:00</td>\n",
       "      <td>yes</td>\n",
       "      <td>Other</td>\n",
       "    </tr>\n",
       "    <tr>\n",
       "      <th>...</th>\n",
       "      <td>...</td>\n",
       "      <td>...</td>\n",
       "      <td>...</td>\n",
       "      <td>...</td>\n",
       "      <td>...</td>\n",
       "      <td>...</td>\n",
       "      <td>...</td>\n",
       "      <td>...</td>\n",
       "    </tr>\n",
       "    <tr>\n",
       "      <th>4995</th>\n",
       "      <td>6486723</td>\n",
       "      <td>http://rebrand.ly/App_novo_cadastro</td>\n",
       "      <td>http://www.phishtank.com/phish_detail.php?phis...</td>\n",
       "      <td>2020-04-04T18:55:28+00:00</td>\n",
       "      <td>yes</td>\n",
       "      <td>2020-04-15T15:26:20+00:00</td>\n",
       "      <td>yes</td>\n",
       "      <td>Other</td>\n",
       "    </tr>\n",
       "    <tr>\n",
       "      <th>4996</th>\n",
       "      <td>6471311</td>\n",
       "      <td>https://paypal-test.projektumfeld.de/</td>\n",
       "      <td>http://www.phishtank.com/phish_detail.php?phis...</td>\n",
       "      <td>2020-03-27T00:05:41+00:00</td>\n",
       "      <td>yes</td>\n",
       "      <td>2020-04-07T22:32:53+00:00</td>\n",
       "      <td>yes</td>\n",
       "      <td>Other</td>\n",
       "    </tr>\n",
       "    <tr>\n",
       "      <th>4997</th>\n",
       "      <td>6466135</td>\n",
       "      <td>http://sporttime.com.mx/wp-includes/js/swfuplo...</td>\n",
       "      <td>http://www.phishtank.com/phish_detail.php?phis...</td>\n",
       "      <td>2020-03-24T11:02:05+00:00</td>\n",
       "      <td>yes</td>\n",
       "      <td>2020-03-24T11:12:51+00:00</td>\n",
       "      <td>yes</td>\n",
       "      <td>Other</td>\n",
       "    </tr>\n",
       "    <tr>\n",
       "      <th>4998</th>\n",
       "      <td>6364998</td>\n",
       "      <td>http://www.stopcarpeliculas.com.br/wp-includes...</td>\n",
       "      <td>http://www.phishtank.com/phish_detail.php?phis...</td>\n",
       "      <td>2020-01-21T14:00:24+00:00</td>\n",
       "      <td>yes</td>\n",
       "      <td>2020-01-29T06:08:31+00:00</td>\n",
       "      <td>yes</td>\n",
       "      <td>Other</td>\n",
       "    </tr>\n",
       "    <tr>\n",
       "      <th>4999</th>\n",
       "      <td>6518350</td>\n",
       "      <td>https://mathbariatimes.com/rmcp/index.php</td>\n",
       "      <td>http://www.phishtank.com/phish_detail.php?phis...</td>\n",
       "      <td>2020-04-20T23:51:34+00:00</td>\n",
       "      <td>yes</td>\n",
       "      <td>2020-04-28T14:05:13+00:00</td>\n",
       "      <td>yes</td>\n",
       "      <td>ABSA Bank</td>\n",
       "    </tr>\n",
       "  </tbody>\n",
       "</table>\n",
       "<p>5000 rows × 8 columns</p>\n",
       "</div>"
      ],
      "text/plain": [
       "      phish_id                                                url  \\\n",
       "0      6514946                  http://confirmprofileaccount.com/   \n",
       "1      4927651      http://www.marreme.com/MasterAdmin/04mop.html   \n",
       "2      5116976              http://modsecpaststudents.com/review/   \n",
       "3      6356131  https://docs.google.com/forms/d/e/1FAIpQLScL6L...   \n",
       "4      6535965  https://oportunidadedasemana.com/americanas//?...   \n",
       "...        ...                                                ...   \n",
       "4995   6486723                http://rebrand.ly/App_novo_cadastro   \n",
       "4996   6471311              https://paypal-test.projektumfeld.de/   \n",
       "4997   6466135  http://sporttime.com.mx/wp-includes/js/swfuplo...   \n",
       "4998   6364998  http://www.stopcarpeliculas.com.br/wp-includes...   \n",
       "4999   6518350          https://mathbariatimes.com/rmcp/index.php   \n",
       "\n",
       "                                       phish_detail_url  \\\n",
       "0     http://www.phishtank.com/phish_detail.php?phis...   \n",
       "1     http://www.phishtank.com/phish_detail.php?phis...   \n",
       "2     http://www.phishtank.com/phish_detail.php?phis...   \n",
       "3     http://www.phishtank.com/phish_detail.php?phis...   \n",
       "4     http://www.phishtank.com/phish_detail.php?phis...   \n",
       "...                                                 ...   \n",
       "4995  http://www.phishtank.com/phish_detail.php?phis...   \n",
       "4996  http://www.phishtank.com/phish_detail.php?phis...   \n",
       "4997  http://www.phishtank.com/phish_detail.php?phis...   \n",
       "4998  http://www.phishtank.com/phish_detail.php?phis...   \n",
       "4999  http://www.phishtank.com/phish_detail.php?phis...   \n",
       "\n",
       "                submission_time verified          verification_time online  \\\n",
       "0     2020-04-19T11:06:55+00:00      yes  2020-04-19T13:42:41+00:00    yes   \n",
       "1     2017-04-04T19:35:54+00:00      yes  2017-05-03T23:00:42+00:00    yes   \n",
       "2     2017-07-25T18:48:30+00:00      yes  2017-07-28T16:01:36+00:00    yes   \n",
       "3     2020-01-13T20:13:37+00:00      yes  2020-01-17T01:55:38+00:00    yes   \n",
       "4     2020-04-29T00:01:03+00:00      yes  2020-05-01T10:55:35+00:00    yes   \n",
       "...                         ...      ...                        ...    ...   \n",
       "4995  2020-04-04T18:55:28+00:00      yes  2020-04-15T15:26:20+00:00    yes   \n",
       "4996  2020-03-27T00:05:41+00:00      yes  2020-04-07T22:32:53+00:00    yes   \n",
       "4997  2020-03-24T11:02:05+00:00      yes  2020-03-24T11:12:51+00:00    yes   \n",
       "4998  2020-01-21T14:00:24+00:00      yes  2020-01-29T06:08:31+00:00    yes   \n",
       "4999  2020-04-20T23:51:34+00:00      yes  2020-04-28T14:05:13+00:00    yes   \n",
       "\n",
       "         target  \n",
       "0         Other  \n",
       "1         Other  \n",
       "2         Other  \n",
       "3         Other  \n",
       "4         Other  \n",
       "...         ...  \n",
       "4995      Other  \n",
       "4996      Other  \n",
       "4997      Other  \n",
       "4998      Other  \n",
       "4999  ABSA Bank  \n",
       "\n",
       "[5000 rows x 8 columns]"
      ]
     },
     "execution_count": 110,
     "metadata": {},
     "output_type": "execute_result"
    }
   ],
   "source": [
    "phishurl"
   ]
  },
  {
   "cell_type": "markdown",
   "metadata": {},
   "source": [
    "## **6. Conclusion**\n",
    "\n",
    "We finally extracted 18 features for 10,000 URL which has 5000 phishing & 5000 legitimate URLs."
   ]
  },
  {
   "cell_type": "markdown",
   "metadata": {},
   "source": [
    "## **7. References**\n",
    "\n",
    "* https://archive.ics.uci.edu/ml/datasets/Phishing+Websites "
   ]
  }
 ],
 "metadata": {
  "accelerator": "GPU",
  "colab": {
   "collapsed_sections": [],
   "name": "URL Feature Extraction.ipynb",
   "provenance": [],
   "toc_visible": true
  },
  "kernelspec": {
   "display_name": "Python 3",
   "language": "python",
   "name": "python3"
  },
  "language_info": {
   "codemirror_mode": {
    "name": "ipython",
    "version": 3
   },
   "file_extension": ".py",
   "mimetype": "text/x-python",
   "name": "python",
   "nbconvert_exporter": "python",
   "pygments_lexer": "ipython3",
   "version": "3.8.5"
  }
 },
 "nbformat": 4,
 "nbformat_minor": 1
}
